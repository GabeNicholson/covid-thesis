{
 "cells": [
  {
   "cell_type": "code",
   "execution_count": 2,
   "metadata": {},
   "outputs": [],
   "source": [
    "import pandas as pd\n",
    "import numpy as np\n",
    "from covid_helper_functions import clean_dataframe, create_sentiment_per_day_df, get_article_grouped_df\n",
    "pd.options.mode.string_storage = \"pyarrow\"\n",
    "pd.options.mode.chained_assignment = None\n",
    "health_data_df = pd.read_parquet('parquet/cleaned_health_data.parquet', engine='pyarrow')"
   ]
  },
  {
   "cell_type": "code",
   "execution_count": 9,
   "metadata": {},
   "outputs": [],
   "source": [
    "def create_cached_dataframes(base_df_name, df_prefix, country_name, is_neutral_class=False, keep_top_n_publishers=False, us_covid=False):\n",
    "    df = pd.read_parquet(f\"parquet/{base_df_name}\", engine='pyarrow')\n",
    "    if keep_top_n_publishers:\n",
    "        top_35_publishers = df['publisher'].value_counts()[:keep_top_n_publishers].index\n",
    "        df = df[df.publisher.isin(top_35_publishers)]\n",
    "        \n",
    "    df = clean_dataframe(df, neutral_class=is_neutral_class)\n",
    "    if us_covid:\n",
    "        con_df = pd.read_parquet('parquet/cleaned_conservative_news_us.parquet', engine='pyarrow')\n",
    "        df = pd.concat([df, con_df], axis=0, join='outer')\n",
    "    df.to_parquet(f\"cached_parquet/{df_prefix}_clean.parquet\")\n",
    "    \n",
    "    grouped_df = get_article_grouped_df(df)\n",
    "    grouped_df.to_parquet(f'cached_parquet/{df_prefix}_grouped.parquet')\n",
    "    \n",
    "    df_prod = create_sentiment_per_day_df(df, health_data_df.loc[country_name])\n",
    "    df_prod.to_parquet(f'cached_parquet/{df_prefix}_prod.parquet')\n",
    "    return df, grouped_df, df_prod"
   ]
  },
  {
   "cell_type": "code",
   "execution_count": 10,
   "metadata": {},
   "outputs": [],
   "source": [
    "con_df = pd.read_parquet(\"conservative_news_predicted.parquet\")\n",
    "con_df = con_df.drop(columns=['Label'])\n",
    "con_df['page_num'] = None\n",
    "con_df['prediction'].replace({0: -1}, inplace=True)\n",
    "con_df = con_df[con_df.date < '2022-05-01']\n",
    "con_df['political_ideology'] = 'R'\n",
    "con_df['national'] = True\n",
    "con_df['Big_company'] = True\n",
    "con_df.date = pd.to_datetime(con_df.date) # convert to datetime\n",
    "con_df.date = con_df.date.dt.tz_localize(None) # get rid of timezone\n",
    "con_df.date = con_df.date.dt.normalize() # get rid of hours\n",
    "con_df = con_df[['date', 'publisher', 'is_oped', 'article_id', 'prediction', 'page_num','political_ideology', 'national', 'Big_company']]\n",
    "con_df.to_parquet(\"parquet/cleaned_conservative_news_us.parquet\")"
   ]
  },
  {
   "cell_type": "code",
   "execution_count": 11,
   "metadata": {},
   "outputs": [],
   "source": [
    "# Covid News Predicted by COVID-SIEBERT\n",
    "df, grouped_df, df_prod = create_cached_dataframes(\"us_covid_news.parquet\", \"us\", \"United States\", is_neutral_class=False, us_covid=True)\n",
    "create_cached_dataframes(\"can_full_covid_readingweek.parquet\", \"can\", \"Canada\", is_neutral_class=False)\n",
    "create_cached_dataframes(\"eur_full_covid_readingweek-2.parquet\", \"eur\", \"United Kingdom\", is_neutral_class=False)\n",
    "\n",
    "# Regular News Predicted by COVID-SIEBERT\n",
    "create_cached_dataframes(\"us-regular-bigfive-complete.parquet\", \"regular_us\", \"United States\", is_neutral_class=False)\n",
    "create_cached_dataframes(\"can_regular_full.parquet\", \"regular_can\", \"Canada\", is_neutral_class=False, keep_top_n_publishers=40)\n",
    "create_cached_dataframes(\"europe_regular_full.parquet\", \"regular_eur\", \"United Kingdom\", is_neutral_class=False, keep_top_n_publishers=40);\n",
    "\n",
    "# Covid Neutral News\n",
    "create_cached_dataframes(\"us_full_covid_neutral.parquet\", \"us_neut\", \"United States\", is_neutral_class=True)\n",
    "create_cached_dataframes(\"eur_covid_neutral.parquet\", \"eur_neut\", \"United Kingdom\", is_neutral_class=True)\n",
    "df, grouped_df, df_prod = create_cached_dataframes(\"can_covid_neutral.parquet\", \"can_neut\", \"Canada\", is_neutral_class=True)\n",
    "\n",
    "# Regular Neutral News\n",
    "create_cached_dataframes(\"us_full_regular_neutral.parquet\", \"us_neut_regular\", \"United States\", is_neutral_class=True)\n",
    "create_cached_dataframes(\"eur_full_regular_neutral.parquet\", \"eur_neut_regular\", \"United Kingdom\", is_neutral_class=True)\n",
    "create_cached_dataframes(\"can_full_regular_neutral.parquet\", \"can_neut_regular\", \"Canada\", is_neutral_class=True);"
   ]
  }
 ],
 "metadata": {
  "kernelspec": {
   "display_name": "covid-news",
   "language": "python",
   "name": "python3"
  },
  "language_info": {
   "codemirror_mode": {
    "name": "ipython",
    "version": 3
   },
   "file_extension": ".py",
   "mimetype": "text/x-python",
   "name": "python",
   "nbconvert_exporter": "python",
   "pygments_lexer": "ipython3",
   "version": "3.10.9"
  },
  "orig_nbformat": 4
 },
 "nbformat": 4,
 "nbformat_minor": 2
}
